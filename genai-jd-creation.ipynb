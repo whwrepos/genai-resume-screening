{
 "cells": [
  {
   "cell_type": "code",
   "execution_count": 3,
   "metadata": {},
   "outputs": [],
   "source": [
    "jd_instruction='Using the following job description as an example, generate a job description for a Data Scientist at a large e-commerce company.'\n",
    "\n",
    "example='''\n",
    "JOB TITLE: Product Manager\n",
    "COMPANY DESCRIPTION:\n",
    "A leading software development company focusing on innovative mobile applications.\n",
    "RESPONSIBILITIES:\n",
    "- Define product strategy and roadmap.\n",
    "- Deliver MRDs and PRDs with prioritized features.\n",
    "- Work with external third parties to assess partnerships and licensing opportunities.\n",
    "- Run beta and pilot programs with early-stage products and samples.\n",
    "\n",
    "SKILLS & QUALIFICATIONS:\n",
    "- Bachelor’s degree in Computer Science or equivalent.\n",
    "- 3+ years of software marketing/product management experience.\n",
    "- Knowledgeable in technology.\n",
    "- Excellent written and verbal communication skills.\n",
    "- Ability to travel 20% of the time.\n",
    "\n",
    "BENEFITS:\n",
    "- Competitive salary.\n",
    "- Health, dental, and vision insurance.\n",
    "- Retirement savings plan.\n",
    "----\n",
    "'''"
   ]
  },
  {
   "cell_type": "code",
   "execution_count": 8,
   "metadata": {},
   "outputs": [
    {
     "name": "stdout",
     "output_type": "stream",
     "text": [
      "\n",
      "JOB TITLE: Data Scientist \n",
      "COMPANY DESCRIPTION: \n",
      "A leading e-commerce company. \n",
      "\n",
      "RESPONSIBILITIES:\n",
      "- Develop data driven models to assess customer trends and preferences.\n",
      "- Analyze customer data to forecast forecast sales and revenue. \n",
      "- Design experiments to inform new product and marketing initiatives.\n",
      "- Create proof of concept and data-driven prototypes for e-commerce products. \n",
      "- Partner with product, marketing, engineering and design teams to create new features.\n",
      "\n",
      "SKILLS & QUALIFICATIONS:\n",
      "- Master’s degree in Data Science or related field.\n",
      "- 3+ years of experience as a data scientist.\n",
      "- Experience in data mining, machine learning, databases, and statistics.\n",
      "- Hands-on experience with programming languages such as Python, R and SQL.\n",
      "- Ability to communicate complex data analysis in an accessible manner.\n",
      "\n",
      "BENEFITS: \n",
      "- Competitive salary.\n",
      "- Health, dental, and vision insurance. \n",
      "- Retirement savings plan. \n",
      "- Flexible work schedule.\n",
      "{\n",
      "  \"completion_tokens\": 228,\n",
      "  \"prompt_tokens\": 205,\n",
      "  \"total_tokens\": 433\n",
      "}\n"
     ]
    }
   ],
   "source": [
    "import os\n",
    "import openai\n",
    "import json\n",
    "openai.api_type = AZURE_OPENAI_TYPE\n",
    "openai.api_base = AZURE_OPENAI_BASE\n",
    "openai.api_version = \"2022-12-01\"\n",
    "openai.api_key = AZURE_OPENAI_KEY\n",
    "\n",
    "response = openai.Completion.create(\n",
    "  engine=\"text-davinci-003\",\n",
    "  prompt= jd_instruction + example,\n",
    "  temperature=1,\n",
    "  max_tokens=300,\n",
    "  top_p=1,\n",
    "  frequency_penalty=0,\n",
    "  presence_penalty=0,\n",
    "  best_of=1,\n",
    "  stop=None)\n",
    "\n",
    "job_description = response.choices[0].text\n",
    "print(job_description)"
   ]
  },
  {
   "cell_type": "code",
   "execution_count": 9,
   "metadata": {},
   "outputs": [],
   "source": [
    "resume_instruction='''\n",
    "Create a resume based on following details:\n",
    "'''\n",
    "profile='''\n",
    "Experience: 3 years\n",
    "Employers: Any 2 fictitious companies\n",
    "Skills: React, JavaScript\n",
    "'''"
   ]
  },
  {
   "cell_type": "code",
   "execution_count": 11,
   "metadata": {},
   "outputs": [
    {
     "name": "stdout",
     "output_type": "stream",
     "text": [
      "\n",
      "Brian C. Grady\n",
      "111 Friendly St. | Philadelphia, PA 19123 | (555) 555-5555 | brian.grady@email.com\n",
      "\n",
      "Summary\n",
      "I am an experienced software engineer with over 3 years of professional development experience. Specializing in React and JavaScript, my goal is to ensure efficient and collaborative software development for successful project completion.\n",
      "\n",
      "Technical Skills\n",
      "• React\n",
      "• JavaScript\n",
      "• HTML\n",
      "• CSS\n",
      "• Version Control (Git)\n",
      "• Agile/Scrum Methodologies\n",
      "• Jest\n",
      "\n",
      "Employment\n",
      "Software Engineer  | XYZ Corp | Philadelphia, PA | April 2017 - Present\n",
      "• Collaborated with team to develop web and mobile applications using React, JavaScript, and HTML/CSS\n",
      "• Led group problem solving sessions during the software development process\n",
      "• Utilized Agile/Scrum methodology for successful project completion\n",
      " \n",
      "Software Developer | ABC Corp | Philadelphia, PA | April 2015 - April 2017\n",
      "• Developed front-end web applications with React, JavaScript, and HTML/CSS\n",
      "• Integrated user interface functions with server-side logic\n",
      "• Managed versions of code using version control software, Git \n",
      "• Participated in brainstorming and problem solving sessions to develop solutions to complex issues with software development \n",
      "\n",
      "Education\n",
      "University of Pennsylvania  | Philadelphia, PA\n",
      "Bachelor of Science in Computer Science - 2016\n"
     ]
    }
   ],
   "source": [
    "import os\n",
    "import openai\n",
    "import json\n",
    "openai.api_type = AZURE_OPENAI_TYPE\n",
    "openai.api_base = AZURE_OPENAI_BASE\n",
    "openai.api_version = \"2022-12-01\"\n",
    "openai.api_key = AZURE_OPENAI_KEY\n",
    "\n",
    "response = openai.Completion.create(\n",
    "  engine=\"text-davinci-003\",\n",
    "  prompt= resume_instruction + profile,\n",
    "  temperature=1,\n",
    "  max_tokens=600,\n",
    "  top_p=1,\n",
    "  frequency_penalty=0,\n",
    "  presence_penalty=0,\n",
    "  best_of=1,\n",
    "  stop=None)\n",
    "\n",
    "resume = response.choices[0].text\n",
    "print(resume)"
   ]
  },
  {
   "cell_type": "code",
   "execution_count": 12,
   "metadata": {},
   "outputs": [],
   "source": [
    "comparison_instruction='''\n",
    "Thoroughly compare the job description and the resume to determine if the resume is a good fit for the job description. \n",
    "'''\n",
    "addl_instruction='''\n",
    "Provide score between 0 and 1, where 1 is a good fit. Also provide explanation.\n",
    "'''"
   ]
  },
  {
   "cell_type": "code",
   "execution_count": 15,
   "metadata": {},
   "outputs": [
    {
     "name": "stdout",
     "output_type": "stream",
     "text": [
      "\n",
      "Score: 0.5\n",
      "Explanation: The candidate has the necessary technical skills and experience for the job, but does not have a Master's degree in Data Science or a related field. Additionally, the candidate does not have any experience in data mining, machine learning, databases, and statistics.\n"
     ]
    }
   ],
   "source": [
    "import os\n",
    "import openai\n",
    "import json\n",
    "openai.api_type = AZURE_OPENAI_TYPE\n",
    "openai.api_base = AZURE_OPENAI_BASE\n",
    "openai.api_version = \"2022-12-01\"\n",
    "openai.api_key = AZURE_OPENAI_KEY\n",
    "\n",
    "response = openai.Completion.create(\n",
    "  engine=\"text-davinci-003\",\n",
    "  prompt= comparison_instruction + job_description + resume + addl_instruction,\n",
    "  temperature=0,\n",
    "  max_tokens=750,\n",
    "  top_p=1,\n",
    "  frequency_penalty=0,\n",
    "  presence_penalty=0,\n",
    "  #best_of=1,\n",
    "  stop='\\n\\n')\n",
    "\n",
    "screen_result = response.choices[0].text\n",
    "print(screen_result)"
   ]
  }
 ],
 "metadata": {
  "kernelspec": {
   "display_name": "Python 3 (ipykernel)",
   "language": "python",
   "name": "python3"
  },
  "language_info": {
   "codemirror_mode": {
    "name": "ipython",
    "version": 3
   },
   "file_extension": ".py",
   "mimetype": "text/x-python",
   "name": "python",
   "nbconvert_exporter": "python",
   "pygments_lexer": "ipython3",
   "version": "3.9.17"
  }
 },
 "nbformat": 4,
 "nbformat_minor": 2
}
